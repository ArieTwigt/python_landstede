{
 "cells": [
  {
   "cell_type": "code",
   "execution_count": 1,
   "metadata": {},
   "outputs": [],
   "source": [
    "from utils.import_functions import get_data_from_rdw\n",
    "from utils.conversion_functions import convert_list_to_df, clean_df\n",
    "from utils.export_functions import export_to_csv\n",
    "\n",
    "from datetime import date"
   ]
  },
  {
   "cell_type": "code",
   "execution_count": 2,
   "metadata": {},
   "outputs": [
    {
     "name": "stdout",
     "output_type": "stream",
     "text": [
      "✅ Found 1000 cars for brand bmw\n"
     ]
    }
   ],
   "source": [
    "# import the cars from the rdw\n",
    "selected_brand = \"bmw\"\n",
    "cars_list = get_data_from_rdw(selected_brand)"
   ]
  },
  {
   "cell_type": "code",
   "execution_count": 3,
   "metadata": {},
   "outputs": [
    {
     "name": "stderr",
     "output_type": "stream",
     "text": [
      "/Users/arietwigt/Projects/python_landstede/utils/conversion_functions.py:28: SettingWithCopyWarning: \n",
      "A value is trying to be set on a copy of a slice from a DataFrame\n",
      "\n",
      "See the caveats in the documentation: https://pandas.pydata.org/pandas-docs/stable/user_guide/indexing.html#returning-a-view-versus-a-copy\n",
      "  df_filtered.rename(columns=kwargs, inplace=True)\n"
     ]
    }
   ],
   "source": [
    "# convert the list to a pandas DataFrame\n",
    "cars_df = convert_list_to_df(cars_list, \"kenteken\", \n",
    "                                        \"handelsbenaming\", \n",
    "                                        \"catalogusprijs\",\n",
    "                                        \"datum_tenaamstelling\", \n",
    "                                        \"aantal_cilinders\", \n",
    "                                        \"aantal_zitplaatsen\",\n",
    "                                        handelsbenaming=\"model\", \n",
    "                                        catalogusprijs=\"prijs\")"
   ]
  },
  {
   "cell_type": "code",
   "execution_count": 4,
   "metadata": {},
   "outputs": [
    {
     "name": "stdout",
     "output_type": "stream",
     "text": [
      "Convert prijs to data type <class 'float'>\n",
      "Convert aantal_cilinders to data type <class 'int'>\n",
      "Convert aantal_zitplaatsen to data type <class 'int'>\n",
      "Convert datum_tenaamstelling to data type <class 'datetime.date'>\n"
     ]
    }
   ],
   "source": [
    "# apply data cleaning\n",
    "cars_df_clean = clean_df(cars_df, \"prijs\", \n",
    "                                  \"aantal_cilinders\",\n",
    "                                  \"aantal_zitplaatsen\",\n",
    "                                  prijs=float,\n",
    "                                  aantal_cilinders=int,\n",
    "                                  aantal_zitplaatsen=int,\n",
    "                                  datum_tenaamstelling=date)"
   ]
  },
  {
   "cell_type": "code",
   "execution_count": 5,
   "metadata": {},
   "outputs": [
    {
     "data": {
      "text/html": [
       "<div>\n",
       "<style scoped>\n",
       "    .dataframe tbody tr th:only-of-type {\n",
       "        vertical-align: middle;\n",
       "    }\n",
       "\n",
       "    .dataframe tbody tr th {\n",
       "        vertical-align: top;\n",
       "    }\n",
       "\n",
       "    .dataframe thead th {\n",
       "        text-align: right;\n",
       "    }\n",
       "</style>\n",
       "<table border=\"1\" class=\"dataframe\">\n",
       "  <thead>\n",
       "    <tr style=\"text-align: right;\">\n",
       "      <th></th>\n",
       "      <th>kenteken</th>\n",
       "      <th>model</th>\n",
       "      <th>prijs</th>\n",
       "      <th>datum_tenaamstelling</th>\n",
       "      <th>aantal_cilinders</th>\n",
       "      <th>aantal_zitplaatsen</th>\n",
       "    </tr>\n",
       "  </thead>\n",
       "  <tbody>\n",
       "    <tr>\n",
       "      <th>20</th>\n",
       "      <td>00GBR2</td>\n",
       "      <td>3ER REIHE</td>\n",
       "      <td>35452.0</td>\n",
       "      <td>2010-05-20</td>\n",
       "      <td>4</td>\n",
       "      <td>5</td>\n",
       "    </tr>\n",
       "    <tr>\n",
       "      <th>21</th>\n",
       "      <td>00GDB4</td>\n",
       "      <td>1ER REIHE</td>\n",
       "      <td>30427.0</td>\n",
       "      <td>2021-11-19</td>\n",
       "      <td>4</td>\n",
       "      <td>4</td>\n",
       "    </tr>\n",
       "    <tr>\n",
       "      <th>22</th>\n",
       "      <td>00GDT8</td>\n",
       "      <td>5ER REIHE</td>\n",
       "      <td>58168.0</td>\n",
       "      <td>2019-07-29</td>\n",
       "      <td>4</td>\n",
       "      <td>5</td>\n",
       "    </tr>\n",
       "    <tr>\n",
       "      <th>23</th>\n",
       "      <td>00GFB1</td>\n",
       "      <td>1ER REIHE</td>\n",
       "      <td>55333.0</td>\n",
       "      <td>2008-06-06</td>\n",
       "      <td>4</td>\n",
       "      <td>4</td>\n",
       "    </tr>\n",
       "    <tr>\n",
       "      <th>25</th>\n",
       "      <td>00GFZ3</td>\n",
       "      <td>1ER REIHE</td>\n",
       "      <td>37411.0</td>\n",
       "      <td>2022-08-20</td>\n",
       "      <td>4</td>\n",
       "      <td>5</td>\n",
       "    </tr>\n",
       "    <tr>\n",
       "      <th>28</th>\n",
       "      <td>00GHD3</td>\n",
       "      <td>3ER REIHE</td>\n",
       "      <td>32760.0</td>\n",
       "      <td>2023-05-12</td>\n",
       "      <td>4</td>\n",
       "      <td>5</td>\n",
       "    </tr>\n",
       "    <tr>\n",
       "      <th>29</th>\n",
       "      <td>00GHK7</td>\n",
       "      <td>3ER REIHE</td>\n",
       "      <td>45136.0</td>\n",
       "      <td>2018-02-10</td>\n",
       "      <td>4</td>\n",
       "      <td>4</td>\n",
       "    </tr>\n",
       "    <tr>\n",
       "      <th>30</th>\n",
       "      <td>00GHP7</td>\n",
       "      <td>1ER REIHE</td>\n",
       "      <td>30288.0</td>\n",
       "      <td>2020-06-19</td>\n",
       "      <td>4</td>\n",
       "      <td>5</td>\n",
       "    </tr>\n",
       "    <tr>\n",
       "      <th>31</th>\n",
       "      <td>00GHX2</td>\n",
       "      <td>5ER REIHE</td>\n",
       "      <td>88957.0</td>\n",
       "      <td>NaT</td>\n",
       "      <td>6</td>\n",
       "      <td>5</td>\n",
       "    </tr>\n",
       "    <tr>\n",
       "      <th>32</th>\n",
       "      <td>00GJF6</td>\n",
       "      <td>X REIHE</td>\n",
       "      <td>57396.0</td>\n",
       "      <td>2024-01-12</td>\n",
       "      <td>4</td>\n",
       "      <td>5</td>\n",
       "    </tr>\n",
       "  </tbody>\n",
       "</table>\n",
       "</div>"
      ],
      "text/plain": [
       "   kenteken      model    prijs datum_tenaamstelling  aantal_cilinders  \\\n",
       "20   00GBR2  3ER REIHE  35452.0           2010-05-20                 4   \n",
       "21   00GDB4  1ER REIHE  30427.0           2021-11-19                 4   \n",
       "22   00GDT8  5ER REIHE  58168.0           2019-07-29                 4   \n",
       "23   00GFB1  1ER REIHE  55333.0           2008-06-06                 4   \n",
       "25   00GFZ3  1ER REIHE  37411.0           2022-08-20                 4   \n",
       "28   00GHD3  3ER REIHE  32760.0           2023-05-12                 4   \n",
       "29   00GHK7  3ER REIHE  45136.0           2018-02-10                 4   \n",
       "30   00GHP7  1ER REIHE  30288.0           2020-06-19                 4   \n",
       "31   00GHX2  5ER REIHE  88957.0                  NaT                 6   \n",
       "32   00GJF6    X REIHE  57396.0           2024-01-12                 4   \n",
       "\n",
       "    aantal_zitplaatsen  \n",
       "20                   5  \n",
       "21                   4  \n",
       "22                   5  \n",
       "23                   4  \n",
       "25                   5  \n",
       "28                   5  \n",
       "29                   4  \n",
       "30                   5  \n",
       "31                   5  \n",
       "32                   5  "
      ]
     },
     "execution_count": 5,
     "metadata": {},
     "output_type": "execute_result"
    }
   ],
   "source": [
    "cars_df_clean.head(10)"
   ]
  },
  {
   "cell_type": "code",
   "execution_count": 6,
   "metadata": {},
   "outputs": [
    {
     "name": "stdout",
     "output_type": "stream",
     "text": [
      "<class 'pandas.core.frame.DataFrame'>\n",
      "Index: 607 entries, 20 to 999\n",
      "Data columns (total 6 columns):\n",
      " #   Column                Non-Null Count  Dtype         \n",
      "---  ------                --------------  -----         \n",
      " 0   kenteken              607 non-null    object        \n",
      " 1   model                 607 non-null    object        \n",
      " 2   prijs                 607 non-null    float64       \n",
      " 3   datum_tenaamstelling  545 non-null    datetime64[ns]\n",
      " 4   aantal_cilinders      607 non-null    int64         \n",
      " 5   aantal_zitplaatsen    607 non-null    int64         \n",
      "dtypes: datetime64[ns](1), float64(1), int64(2), object(2)\n",
      "memory usage: 33.2+ KB\n"
     ]
    }
   ],
   "source": [
    "# technical information of DataFrame\n",
    "cars_df_clean.info()"
   ]
  },
  {
   "cell_type": "code",
   "execution_count": 7,
   "metadata": {},
   "outputs": [
    {
     "data": {
      "text/html": [
       "<div>\n",
       "<style scoped>\n",
       "    .dataframe tbody tr th:only-of-type {\n",
       "        vertical-align: middle;\n",
       "    }\n",
       "\n",
       "    .dataframe tbody tr th {\n",
       "        vertical-align: top;\n",
       "    }\n",
       "\n",
       "    .dataframe thead th {\n",
       "        text-align: right;\n",
       "    }\n",
       "</style>\n",
       "<table border=\"1\" class=\"dataframe\">\n",
       "  <thead>\n",
       "    <tr style=\"text-align: right;\">\n",
       "      <th></th>\n",
       "      <th>prijs</th>\n",
       "      <th>datum_tenaamstelling</th>\n",
       "      <th>aantal_cilinders</th>\n",
       "      <th>aantal_zitplaatsen</th>\n",
       "    </tr>\n",
       "  </thead>\n",
       "  <tbody>\n",
       "    <tr>\n",
       "      <th>count</th>\n",
       "      <td>607.000000</td>\n",
       "      <td>545</td>\n",
       "      <td>607.000000</td>\n",
       "      <td>607.000000</td>\n",
       "    </tr>\n",
       "    <tr>\n",
       "      <th>mean</th>\n",
       "      <td>52562.599671</td>\n",
       "      <td>2019-10-05 21:55:48.990825728</td>\n",
       "      <td>4.497529</td>\n",
       "      <td>4.823723</td>\n",
       "    </tr>\n",
       "    <tr>\n",
       "      <th>min</th>\n",
       "      <td>26199.000000</td>\n",
       "      <td>2008-06-06 00:00:00</td>\n",
       "      <td>4.000000</td>\n",
       "      <td>2.000000</td>\n",
       "    </tr>\n",
       "    <tr>\n",
       "      <th>25%</th>\n",
       "      <td>35476.000000</td>\n",
       "      <td>2017-05-08 00:00:00</td>\n",
       "      <td>4.000000</td>\n",
       "      <td>5.000000</td>\n",
       "    </tr>\n",
       "    <tr>\n",
       "      <th>50%</th>\n",
       "      <td>45895.000000</td>\n",
       "      <td>2020-10-02 00:00:00</td>\n",
       "      <td>4.000000</td>\n",
       "      <td>5.000000</td>\n",
       "    </tr>\n",
       "    <tr>\n",
       "      <th>75%</th>\n",
       "      <td>63350.500000</td>\n",
       "      <td>2022-12-29 00:00:00</td>\n",
       "      <td>4.000000</td>\n",
       "      <td>5.000000</td>\n",
       "    </tr>\n",
       "    <tr>\n",
       "      <th>max</th>\n",
       "      <td>181754.000000</td>\n",
       "      <td>2024-03-02 00:00:00</td>\n",
       "      <td>8.000000</td>\n",
       "      <td>7.000000</td>\n",
       "    </tr>\n",
       "    <tr>\n",
       "      <th>std</th>\n",
       "      <td>22922.843099</td>\n",
       "      <td>NaN</td>\n",
       "      <td>0.945500</td>\n",
       "      <td>0.494422</td>\n",
       "    </tr>\n",
       "  </tbody>\n",
       "</table>\n",
       "</div>"
      ],
      "text/plain": [
       "               prijs           datum_tenaamstelling  aantal_cilinders  \\\n",
       "count     607.000000                            545        607.000000   \n",
       "mean    52562.599671  2019-10-05 21:55:48.990825728          4.497529   \n",
       "min     26199.000000            2008-06-06 00:00:00          4.000000   \n",
       "25%     35476.000000            2017-05-08 00:00:00          4.000000   \n",
       "50%     45895.000000            2020-10-02 00:00:00          4.000000   \n",
       "75%     63350.500000            2022-12-29 00:00:00          4.000000   \n",
       "max    181754.000000            2024-03-02 00:00:00          8.000000   \n",
       "std     22922.843099                            NaN          0.945500   \n",
       "\n",
       "       aantal_zitplaatsen  \n",
       "count          607.000000  \n",
       "mean             4.823723  \n",
       "min              2.000000  \n",
       "25%              5.000000  \n",
       "50%              5.000000  \n",
       "75%              5.000000  \n",
       "max              7.000000  \n",
       "std              0.494422  "
      ]
     },
     "execution_count": 7,
     "metadata": {},
     "output_type": "execute_result"
    }
   ],
   "source": [
    "# show statistical information\n",
    "cars_df_clean.describe()"
   ]
  },
  {
   "cell_type": "code",
   "execution_count": 8,
   "metadata": {},
   "outputs": [
    {
     "data": {
      "text/plain": [
       "22922.843099016143"
      ]
     },
     "execution_count": 8,
     "metadata": {},
     "output_type": "execute_result"
    }
   ],
   "source": [
    "# \n",
    "cars_df_clean['prijs'].std()"
   ]
  },
  {
   "cell_type": "code",
   "execution_count": 9,
   "metadata": {},
   "outputs": [
    {
     "data": {
      "text/plain": [
       "'URIE'"
      ]
     },
     "execution_count": 9,
     "metadata": {},
     "output_type": "execute_result"
    }
   ],
   "source": [
    "# non-method chaining\n",
    "name = \"arie\"\n",
    "name = name.upper()\n",
    "name = name.replace(\"A\", \"U\")\n",
    "name"
   ]
  },
  {
   "cell_type": "code",
   "execution_count": 10,
   "metadata": {},
   "outputs": [
    {
     "data": {
      "text/plain": [
       "'URIE'"
      ]
     },
     "execution_count": 10,
     "metadata": {},
     "output_type": "execute_result"
    }
   ],
   "source": [
    "# methond chaining\n",
    "name = \"arie\"\n",
    "\n",
    "name.upper().replace(\"A\", \"U\")\n"
   ]
  },
  {
   "cell_type": "code",
   "execution_count": 11,
   "metadata": {},
   "outputs": [
    {
     "data": {
      "text/html": [
       "<div>\n",
       "<style scoped>\n",
       "    .dataframe tbody tr th:only-of-type {\n",
       "        vertical-align: middle;\n",
       "    }\n",
       "\n",
       "    .dataframe tbody tr th {\n",
       "        vertical-align: top;\n",
       "    }\n",
       "\n",
       "    .dataframe thead th {\n",
       "        text-align: right;\n",
       "    }\n",
       "</style>\n",
       "<table border=\"1\" class=\"dataframe\">\n",
       "  <thead>\n",
       "    <tr style=\"text-align: right;\">\n",
       "      <th></th>\n",
       "      <th>model</th>\n",
       "      <th>gemiddelde_prijs</th>\n",
       "      <th>max_cilinders</th>\n",
       "    </tr>\n",
       "  </thead>\n",
       "  <tbody>\n",
       "    <tr>\n",
       "      <th>0</th>\n",
       "      <td>ACTIVEHYBRID 7 L</td>\n",
       "      <td>181754.000000</td>\n",
       "      <td>8</td>\n",
       "    </tr>\n",
       "    <tr>\n",
       "      <th>1</th>\n",
       "      <td>M5</td>\n",
       "      <td>137852.000000</td>\n",
       "      <td>8</td>\n",
       "    </tr>\n",
       "    <tr>\n",
       "      <th>2</th>\n",
       "      <td>6ER REIHE</td>\n",
       "      <td>126722.666667</td>\n",
       "      <td>8</td>\n",
       "    </tr>\n",
       "    <tr>\n",
       "      <th>3</th>\n",
       "      <td>645 CI</td>\n",
       "      <td>118458.000000</td>\n",
       "      <td>8</td>\n",
       "    </tr>\n",
       "    <tr>\n",
       "      <th>4</th>\n",
       "      <td>550I</td>\n",
       "      <td>111059.000000</td>\n",
       "      <td>8</td>\n",
       "    </tr>\n",
       "  </tbody>\n",
       "</table>\n",
       "</div>"
      ],
      "text/plain": [
       "              model  gemiddelde_prijs  max_cilinders\n",
       "0  ACTIVEHYBRID 7 L     181754.000000              8\n",
       "1                M5     137852.000000              8\n",
       "2         6ER REIHE     126722.666667              8\n",
       "3            645 CI     118458.000000              8\n",
       "4              550I     111059.000000              8"
      ]
     },
     "execution_count": 11,
     "metadata": {},
     "output_type": "execute_result"
    }
   ],
   "source": [
    "# aggregation pipeline ()\n",
    "cars_df_aggr = (cars_df_clean\n",
    "                .groupby(\"model\")\n",
    "                .agg({\n",
    "                    'prijs': 'mean',\n",
    "                    'aantal_cilinders': 'max'})\n",
    "                .rename(columns={'prijs': 'gemiddelde_prijs',\n",
    "                                 'aantal_cilinders': 'max_cilinders'})\n",
    "                .sort_values(by=\"gemiddelde_prijs\", ascending=False)\n",
    "                .query(\"gemiddelde_prijs > 100000 & max_cilinders >= 8\")\n",
    "                .reset_index()\n",
    ")\n",
    "\n",
    "cars_df_aggr"
   ]
  },
  {
   "cell_type": "code",
   "execution_count": 12,
   "metadata": {},
   "outputs": [
    {
     "name": "stdout",
     "output_type": "stream",
     "text": [
      "✅ Saved file to data/bmw.csv\n"
     ]
    }
   ],
   "source": [
    "# export the DataFrame to csv\n",
    "export_to_csv(cars_df_aggr, selected_brand)"
   ]
  },
  {
   "cell_type": "code",
   "execution_count": null,
   "metadata": {},
   "outputs": [],
   "source": []
  }
 ],
 "metadata": {
  "kernelspec": {
   "display_name": "venv",
   "language": "python",
   "name": "python3"
  },
  "language_info": {
   "codemirror_mode": {
    "name": "ipython",
    "version": 3
   },
   "file_extension": ".py",
   "mimetype": "text/x-python",
   "name": "python",
   "nbconvert_exporter": "python",
   "pygments_lexer": "ipython3",
   "version": "3.12.0"
  }
 },
 "nbformat": 4,
 "nbformat_minor": 2
}
